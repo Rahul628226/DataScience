import sklearn

from sklearn.model_selection import train_test_split as tts

from sklearn.metrics import confusion_matrix , accuracy_score

from sklearn.neighbors import KNeighborsClassifier as kn

from sklearn.datasets import load_iris

from sklearn.naive_bayes import GaussianNB as gb

​

a = load_iris()

x = a.data

​

y = a.target

x[:5]

array([[5.1, 3.5, 1.4, 0.2],
       [4.9, 3. , 1.4, 0.2],
       [4.7, 3.2, 1.3, 0.2],
       [4.6, 3.1, 1.5, 0.2],
       [5. , 3.6, 1.4, 0.2]])

y[:5]

array([0, 0, 0, 0, 0])

xTest,xTrain,yTest,yTrain = tts(x,y,test_size=0.20)

xTrain[:5]

array([[4.9, 2.4, 3.3, 1. ],
       [6. , 2.7, 5.1, 1.6],
       [6.3, 2.9, 5.6, 1.8],
       [5.7, 2.8, 4.1, 1.3],
       [5. , 3.2, 1.2, 0.2]])

xTest[:5]

array([[5.7, 2.6, 3.5, 1. ],
       [5.5, 2.5, 4. , 1.3],
       [5.5, 2.4, 3.7, 1. ],
       [6.9, 3.1, 5.4, 2.1],
       [4.4, 3.2, 1.3, 0.2]])

yTrain[:5]

array([1, 1, 2, 1, 0])

yTest[:5]

array([1, 1, 1, 2, 0])

cl = gb()

cl.fit(xTrain,yTrain)

GaussianNB()

pred=cl.predict(xTest)

pred

array([1, 1, 1, 2, 0, 0, 1, 1, 0, 0, 0, 0, 2, 1, 0, 2, 0, 1, 0, 0, 2, 0,
       0, 0, 2, 0, 1, 2, 1, 0, 1, 1, 0, 1, 1, 2, 2, 2, 1, 2, 1, 1, 2, 2,
       2, 0, 2, 2, 2, 1, 0, 1, 1, 0, 0, 0, 2, 2, 2, 2, 1, 1, 2, 1, 2, 0,
       0, 1, 2, 2, 1, 2, 0, 0, 2, 0, 0, 1, 2, 0, 2, 0, 1, 2, 2, 2, 0, 1,
       0, 0, 0, 0, 1, 2, 0, 0, 2, 1, 1, 2, 1, 1, 0, 2, 0, 1, 2, 2, 1, 1,
       2, 1, 1, 2, 0, 2, 0, 1, 1, 1])

cm=confusion_matrix(yTest,pred)

cm

array([[40,  0,  0],
       [ 0, 37,  2],
       [ 0,  3, 38]], dtype=int64)

ac=accuracy_score(yTest,pred)

ac

0.9583333333333334
